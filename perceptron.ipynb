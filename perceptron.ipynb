{
 "cells": [
  {
   "cell_type": "markdown",
   "metadata": {},
   "source": [
    "# Perceptron"
   ]
  },
  {
   "cell_type": "code",
   "execution_count": 1,
   "metadata": {},
   "outputs": [],
   "source": [
    "import numpy as np\n",
    "import pandas as pd\n",
    "import itertools\n",
    "from sklearn.linear_model import Perceptron\n",
    "from sklearn.model_selection import train_test_split, cross_val_score\n",
    "from sklearn.metrics import accuracy_score\n",
    "from sklearn.metrics import confusion_matrix\n",
    "from sklearn.preprocessing import StandardScaler\n",
    "import matplotlib.pyplot as plt\n",
    "import pickle\n",
    "\n",
    "# Environment settings\n",
    "data_path = 'Data/'\n",
    "\n",
    "# Deserialize previously saved data from \"preprocessing\"\n",
    "with open(data_path+'train_pp.obj', 'rb') as train_pp, \\\n",
    "open(data_path+'test_pp.obj', 'rb') as test_pp:\n",
    "    df_train = pickle.load(train_pp)\n",
    "    df_test = pickle.load(test_pp)\n"
   ]
  },
  {
   "cell_type": "code",
   "execution_count": 2,
   "metadata": {},
   "outputs": [],
   "source": [
    "X_train = df_train.drop([\"Survived\"], axis=1)\n",
    "y_train = df_train[\"Survived\"]\n",
    "\n",
    "X_train, X_test, y_train, y_test = train_test_split(X_train,y_train, random_state=1, test_size=0.30)\n"
   ]
  },
  {
   "cell_type": "code",
   "execution_count": 3,
   "metadata": {},
   "outputs": [],
   "source": [
    "scaler = StandardScaler()\n",
    "scaler.fit(X_train)\n",
    "\n",
    "X_train = scaler.transform(X_train)\n",
    "X_test = scaler.transform(X_test)"
   ]
  },
  {
   "cell_type": "code",
   "execution_count": 4,
   "metadata": {},
   "outputs": [],
   "source": [
    "perceptron = Perceptron( max_iter=50, eta0 = 0.01, random_state=0)\n",
    "perceptron.fit(X_train, y_train) \n",
    "predicted = perceptron.predict(X_test)"
   ]
  },
  {
   "cell_type": "code",
   "execution_count": 5,
   "metadata": {},
   "outputs": [
    {
     "data": {
      "text/plain": [
       "0.7835820895522388"
      ]
     },
     "execution_count": 5,
     "metadata": {},
     "output_type": "execute_result"
    }
   ],
   "source": [
    "#accuracy\n",
    "accuracy_score (y_test, predicted)"
   ]
  },
  {
   "cell_type": "code",
   "execution_count": 6,
   "metadata": {},
   "outputs": [
    {
     "data": {
      "image/png": "[encoded data removed]",
      "text/plain": [
       "<Figure size 432x288 with 2 Axes>"
      ]
     },
     "metadata": {},
     "output_type": "display_data"
    }
   ],
   "source": [
    "#confusion matrix\n",
    "cm=confusion_matrix(y_test, predicted)\n",
    "plt.figure()\n",
    "plt.imshow(cm, cmap= plt.cm.Blues)\n",
    "plt.title('Confusion matrix')\n",
    "plt.colorbar()\n",
    "plt.xticks([0,1], ['Dead', 'Survived'])\n",
    "plt.yticks([0,1], ['Dead', 'Survived'])\n",
    "for i,j in itertools.product(range(cm.shape[0]), range(cm.shape[1])):\n",
    "    plt.text(j,i, format (cm[i,j]),\n",
    "            horizontalalignment=\"center\",\n",
    "            color=\"white\" if cm[i,j]> cm.max()/2 else \"black\")\n",
    "plt.ylabel('True label')\n",
    "plt.xlabel('Predicted label')\n",
    "plt.show()"
   ]
  },
  {
   "cell_type": "code",
   "execution_count": 7,
   "metadata": {},
   "outputs": [],
   "source": [
    "# Prediction on test set\n",
    "dv_test_X = df_test.drop([], axis=1).values\n",
    "\n",
    "test_prediction_results = pd.DataFrame(\n",
    "    data={'PassengerId': df_test['PassengerId'].values,\n",
    "          'Survived': perceptron.predict(dv_test_X).astype(int)})\n",
    "\n",
    "# Write results to a csv file\n",
    "test_prediction_results.to_csv(data_path+'outputs/perceptron.csv', index=False)"
   ]
  },
  {
   "cell_type": "code",
   "execution_count": null,
   "metadata": {},
   "outputs": [],
   "source": []
  }
 ],
 "metadata": {
  "kernelspec": {
   "display_name": "Python 3",
   "language": "python",
   "name": "python3"
  },
  "language_info": {
   "codemirror_mode": {
    "name": "ipython",
    "version": 3
   },
   "file_extension": ".py",
   "mimetype": "text/x-python",
   "name": "python",
   "nbconvert_exporter": "python",
   "pygments_lexer": "ipython3",
   "version": "3.6.5"
  }
 },
 "nbformat": 4,
 "nbformat_minor": 2
}
