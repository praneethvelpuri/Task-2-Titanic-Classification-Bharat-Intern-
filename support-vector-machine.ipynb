{
 "cells": [
  {
   "cell_type": "markdown",
   "metadata": {},
   "source": [
    "# Support Vector Machine"
   ]
  },
  {
   "cell_type": "markdown",
   "metadata": {},
   "source": [
    "Support vector machines (SVMs) are supervised algorithms for both classification and regression.\n",
    "Based on discriminative classification: rather than modeling each class, we simply find a line or curve (in two dimensions) or manifold (in multiple dimensions) that divides the classes from each other.\n",
    "\n",
    "Datapoints from different classes are separated by lines (if SVM uses a linear kernel) which have margins.\n",
    "These margins are maximized till they \"touch\" some datapoints.\n",
    "These datapoints are called \"support vectors\" and are the only datapoints that are considered for future predictions. Datapoints which are not in the margins don't influence the prediction.\n",
    "\n",
    "C parameter determines how tolerant is the margin with respect to data points inside itself. The lesser the more tolerant it is.\n",
    "\n",
    "**References**\n",
    "* [Python Data Science Handbook](https://jakevdp.github.io/PythonDataScienceHandbook/05.07-support-vector-machines.html)\n",
    "* [An Idiot's guide to Support vector machines (SVMs)](http://web.mit.edu/6.034/wwwbob/svm-notes-long-08.pdf)"
   ]
  },
  {
   "cell_type": "markdown",
   "metadata": {},
   "source": [
    "## Load Data"
   ]
  },
  {
   "cell_type": "code",
   "execution_count": 1,
   "metadata": {},
   "outputs": [
    {
     "data": {
      "text/html": [
       "<div>\n",
       "<style scoped>\n",
       "    .dataframe tbody tr th:only-of-type {\n",
       "        vertical-align: middle;\n",
       "    }\n",
       "\n",
       "    .dataframe tbody tr th {\n",
       "        vertical-align: top;\n",
       "    }\n",
       "\n",
       "    .dataframe thead th {\n",
       "        text-align: right;\n",
       "    }\n",
       "</style>\n",
       "<table border=\"1\" class=\"dataframe\">\n",
       "  <thead>\n",
       "    <tr style=\"text-align: right;\">\n",
       "      <th></th>\n",
       "      <th>PassengerId</th>\n",
       "      <th>Survived</th>\n",
       "      <th>Pclass</th>\n",
       "      <th>Sex</th>\n",
       "      <th>Age</th>\n",
       "      <th>SibSp</th>\n",
       "      <th>Parch</th>\n",
       "      <th>Fare</th>\n",
       "      <th>Embarked_Q</th>\n",
       "      <th>Embarked_S</th>\n",
       "      <th>Title</th>\n",
       "    </tr>\n",
       "  </thead>\n",
       "  <tbody>\n",
       "    <tr>\n",
       "      <th>0</th>\n",
       "      <td>1</td>\n",
       "      <td>False</td>\n",
       "      <td>3</td>\n",
       "      <td>0</td>\n",
       "      <td>1</td>\n",
       "      <td>1</td>\n",
       "      <td>0</td>\n",
       "      <td>0.014151</td>\n",
       "      <td>0</td>\n",
       "      <td>1</td>\n",
       "      <td>6</td>\n",
       "    </tr>\n",
       "    <tr>\n",
       "      <th>1</th>\n",
       "      <td>2</td>\n",
       "      <td>True</td>\n",
       "      <td>1</td>\n",
       "      <td>1</td>\n",
       "      <td>4</td>\n",
       "      <td>1</td>\n",
       "      <td>0</td>\n",
       "      <td>0.139136</td>\n",
       "      <td>0</td>\n",
       "      <td>0</td>\n",
       "      <td>1</td>\n",
       "    </tr>\n",
       "    <tr>\n",
       "      <th>2</th>\n",
       "      <td>3</td>\n",
       "      <td>True</td>\n",
       "      <td>3</td>\n",
       "      <td>1</td>\n",
       "      <td>2</td>\n",
       "      <td>0</td>\n",
       "      <td>0</td>\n",
       "      <td>0.015469</td>\n",
       "      <td>0</td>\n",
       "      <td>1</td>\n",
       "      <td>2</td>\n",
       "    </tr>\n",
       "    <tr>\n",
       "      <th>3</th>\n",
       "      <td>4</td>\n",
       "      <td>True</td>\n",
       "      <td>1</td>\n",
       "      <td>1</td>\n",
       "      <td>3</td>\n",
       "      <td>1</td>\n",
       "      <td>0</td>\n",
       "      <td>0.103644</td>\n",
       "      <td>0</td>\n",
       "      <td>1</td>\n",
       "      <td>1</td>\n",
       "    </tr>\n",
       "    <tr>\n",
       "      <th>4</th>\n",
       "      <td>5</td>\n",
       "      <td>False</td>\n",
       "      <td>3</td>\n",
       "      <td>0</td>\n",
       "      <td>3</td>\n",
       "      <td>0</td>\n",
       "      <td>0</td>\n",
       "      <td>0.015713</td>\n",
       "      <td>0</td>\n",
       "      <td>1</td>\n",
       "      <td>6</td>\n",
       "    </tr>\n",
       "    <tr>\n",
       "      <th>5</th>\n",
       "      <td>6</td>\n",
       "      <td>False</td>\n",
       "      <td>3</td>\n",
       "      <td>0</td>\n",
       "      <td>1</td>\n",
       "      <td>0</td>\n",
       "      <td>0</td>\n",
       "      <td>0.016510</td>\n",
       "      <td>1</td>\n",
       "      <td>0</td>\n",
       "      <td>6</td>\n",
       "    </tr>\n",
       "    <tr>\n",
       "      <th>6</th>\n",
       "      <td>7</td>\n",
       "      <td>False</td>\n",
       "      <td>1</td>\n",
       "      <td>0</td>\n",
       "      <td>5</td>\n",
       "      <td>0</td>\n",
       "      <td>0</td>\n",
       "      <td>0.101229</td>\n",
       "      <td>0</td>\n",
       "      <td>1</td>\n",
       "      <td>6</td>\n",
       "    </tr>\n",
       "    <tr>\n",
       "      <th>7</th>\n",
       "      <td>8</td>\n",
       "      <td>False</td>\n",
       "      <td>3</td>\n",
       "      <td>0</td>\n",
       "      <td>0</td>\n",
       "      <td>3</td>\n",
       "      <td>1</td>\n",
       "      <td>0.041136</td>\n",
       "      <td>0</td>\n",
       "      <td>1</td>\n",
       "      <td>3</td>\n",
       "    </tr>\n",
       "    <tr>\n",
       "      <th>8</th>\n",
       "      <td>9</td>\n",
       "      <td>True</td>\n",
       "      <td>3</td>\n",
       "      <td>1</td>\n",
       "      <td>2</td>\n",
       "      <td>0</td>\n",
       "      <td>2</td>\n",
       "      <td>0.021731</td>\n",
       "      <td>0</td>\n",
       "      <td>1</td>\n",
       "      <td>1</td>\n",
       "    </tr>\n",
       "    <tr>\n",
       "      <th>9</th>\n",
       "      <td>10</td>\n",
       "      <td>True</td>\n",
       "      <td>2</td>\n",
       "      <td>1</td>\n",
       "      <td>0</td>\n",
       "      <td>1</td>\n",
       "      <td>0</td>\n",
       "      <td>0.058694</td>\n",
       "      <td>0</td>\n",
       "      <td>0</td>\n",
       "      <td>1</td>\n",
       "    </tr>\n",
       "  </tbody>\n",
       "</table>\n",
       "</div>"
      ],
      "text/plain": [
       "  PassengerId  Survived Pclass  Sex  Age  SibSp  Parch      Fare  Embarked_Q  \\\n",
       "0           1     False      3    0    1      1      0  0.014151           0   \n",
       "1           2      True      1    1    4      1      0  0.139136           0   \n",
       "2           3      True      3    1    2      0      0  0.015469           0   \n",
       "3           4      True      1    1    3      1      0  0.103644           0   \n",
       "4           5     False      3    0    3      0      0  0.015713           0   \n",
       "5           6     False      3    0    1      0      0  0.016510           1   \n",
       "6           7     False      1    0    5      0      0  0.101229           0   \n",
       "7           8     False      3    0    0      3      1  0.041136           0   \n",
       "8           9      True      3    1    2      0      2  0.021731           0   \n",
       "9          10      True      2    1    0      1      0  0.058694           0   \n",
       "\n",
       "   Embarked_S  Title  \n",
       "0           1      6  \n",
       "1           0      1  \n",
       "2           1      2  \n",
       "3           1      1  \n",
       "4           1      6  \n",
       "5           0      6  \n",
       "6           1      6  \n",
       "7           1      3  \n",
       "8           1      1  \n",
       "9           0      1  "
      ]
     },
     "execution_count": 1,
     "metadata": {},
     "output_type": "execute_result"
    }
   ],
   "source": [
    "%matplotlib inline\n",
    "import numpy as np\n",
    "import pandas as pd\n",
    "from pandas import Series, DataFrame\n",
    "from sklearn import svm\n",
    "from sklearn.model_selection import train_test_split, cross_val_score, GridSearchCV\n",
    "import matplotlib.pyplot as plt\n",
    "import pickle\n",
    "\n",
    "# Environment settings\n",
    "data_path = 'Data/'\n",
    "\n",
    "# Deserialize previously saved data from \"preprocessing\"\n",
    "with open(data_path+'train_pp.obj', 'rb') as train_pp, \\\n",
    "open(data_path+'test_pp.obj', 'rb') as test_pp:\n",
    "    df_train = pickle.load(train_pp)\n",
    "    df_test = pickle.load(test_pp)\n",
    "\n",
    "df_train.head(10)"
   ]
  },
  {
   "cell_type": "markdown",
   "metadata": {},
   "source": [
    "## Data processing and model training"
   ]
  },
  {
   "cell_type": "code",
   "execution_count": 2,
   "metadata": {},
   "outputs": [],
   "source": [
    "# Preprocessing\n",
    "dv_train_X = df_train.drop(['PassengerId','Survived'], axis=1).values\n",
    "dv_train_y = df_train['Survived'].values"
   ]
  },
  {
   "cell_type": "code",
   "execution_count": 3,
   "metadata": {},
   "outputs": [],
   "source": [
    "# Prepare training set\n",
    "X_train, X_test, y_train, y_test = train_test_split(\n",
    "    dv_train_X, dv_train_y, test_size=0.25, random_state=1, stratify=dv_train_y);"
   ]
  },
  {
   "cell_type": "code",
   "execution_count": 4,
   "metadata": {},
   "outputs": [
    {
     "name": "stdout",
     "output_type": "stream",
     "text": [
      "Best score: 0.8372615039281706\n",
      "Best parameters: {'C': 100, 'gamma': 0.01, 'kernel': 'rbf'}\n"
     ]
    }
   ],
   "source": [
    "# Grid search to find best parameter values\n",
    "param_grid = {\n",
    "    'kernel': ['linear', 'rbf', 'sigmoid'],\n",
    "    'C': [0.001, 0.01, 0.1, 1, 10, 100],\n",
    "    'gamma' : [0.001, 0.01, 0.1, 1]\n",
    "}\n",
    "\n",
    "grid_svc = GridSearchCV(svm.SVC(), param_grid, cv=10, scoring='accuracy')\n",
    "grid_svc.fit(dv_train_X, dv_train_y)\n",
    "\n",
    "print('Best score: {}'.format(grid_svc.best_score_))\n",
    "print('Best parameters: {}'.format(grid_svc.best_params_))"
   ]
  },
  {
   "cell_type": "code",
   "execution_count": 5,
   "metadata": {},
   "outputs": [],
   "source": [
    "# Model training\n",
    "svc = svm.SVC(**grid_svc.best_params_).fit(X_train, y_train)"
   ]
  },
  {
   "cell_type": "markdown",
   "metadata": {},
   "source": [
    "## Model parameters"
   ]
  },
  {
   "cell_type": "code",
   "execution_count": 6,
   "metadata": {},
   "outputs": [
    {
     "name": "stdout",
     "output_type": "stream",
     "text": [
      "non-linear kernels are not support\n"
     ]
    }
   ],
   "source": [
    "# Features importance (for linear kernels only)\n",
    "try:\n",
    "    f_name = df_train.drop(['PassengerId','Survived'], axis=1).columns.values\n",
    "    f_score = map(lambda x: -x.round(2), svc.coef_[0])\n",
    "    \n",
    "    print('{:<10}{:16}{:>10}'.format('RANK', 'FEATURE', 'SCORE'))\n",
    "    for i, f in enumerate(sorted(zip(f_name, f_score), key=lambda x: x[1], reverse=True)):\n",
    "        print('{:<10}{:16}{:10}'.format(i+1, f[0], f[1]))\n",
    "    \n",
    "except AttributeError:\n",
    "    print('non-linear kernels are not support')"
   ]
  },
  {
   "cell_type": "code",
   "execution_count": 7,
   "metadata": {},
   "outputs": [
    {
     "name": "stdout",
     "output_type": "stream",
     "text": [
      "number of support vectors: 264\n"
     ]
    }
   ],
   "source": [
    "# Number of support vectors\n",
    "print('number of support vectors: {}'.format(len(svc.support_vectors_)))"
   ]
  },
  {
   "cell_type": "markdown",
   "metadata": {},
   "source": [
    "## Score"
   ]
  },
  {
   "cell_type": "code",
   "execution_count": 8,
   "metadata": {},
   "outputs": [
    {
     "name": "stdout",
     "output_type": "stream",
     "text": [
      "Accuracy with test set: 0.85 (+/- 0.0)\n"
     ]
    }
   ],
   "source": [
    "# Test set score\n",
    "testset_score = svc.score(X_test, y_test)\n",
    "print('Accuracy with test set: {} (+/- {})'\n",
    "      .format(round(testset_score.mean(),2), round(testset_score.std() * 2,2)))"
   ]
  },
  {
   "cell_type": "code",
   "execution_count": 9,
   "metadata": {},
   "outputs": [
    {
     "name": "stdout",
     "output_type": "stream",
     "text": [
      "Accuracy with cross-validation (split size = 10): 0.84 (+/- 0.07)\n"
     ]
    }
   ],
   "source": [
    "# Cross-validation score\n",
    "cv_iterations = 10\n",
    "cv_score = cross_val_score(svc, dv_train_X, dv_train_y, cv=cv_iterations)\n",
    "print('Accuracy with cross-validation (split size = {}): {} (+/- {})'\n",
    "      .format(cv_iterations, round(cv_score.mean(),2), round(cv_score.std() * 2,2)))"
   ]
  },
  {
   "cell_type": "markdown",
   "metadata": {
    "collapsed": true
   },
   "source": [
    "## Test set prediction"
   ]
  },
  {
   "cell_type": "code",
   "execution_count": 10,
   "metadata": {},
   "outputs": [],
   "source": [
    "# Prediction on test set\n",
    "dv_test_X = df_test.drop(['PassengerId'], axis=1).values\n",
    "\n",
    "test_prediction_results = pd.DataFrame(\n",
    "    data={'PassengerId': df_test['PassengerId'].values,\n",
    "          'Survived': svc.predict(dv_test_X).astype(int)})\n",
    "\n",
    "# Write results to a csv file\n",
    "test_prediction_results.to_csv(data_path+'outputs/support-vector-machine.csv', index=False)"
   ]
  },
  {
   "cell_type": "code",
   "execution_count": null,
   "metadata": {},
   "outputs": [],
   "source": []
  }
 ],
 "metadata": {
  "kernelspec": {
   "display_name": "Python 3",
   "language": "python",
   "name": "python3"
  },
  "language_info": {
   "codemirror_mode": {
    "name": "ipython",
    "version": 3
   },
   "file_extension": ".py",
   "mimetype": "text/x-python",
   "name": "python",
   "nbconvert_exporter": "python",
   "pygments_lexer": "ipython3",
   "version": "3.6.3"
  }
 },
 "nbformat": 4,
 "nbformat_minor": 2
}
